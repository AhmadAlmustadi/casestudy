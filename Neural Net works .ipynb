{
  "nbformat": 4,
  "nbformat_minor": 0,
  "metadata": {
    "colab": {
      "provenance": [],
      "authorship_tag": "ABX9TyPMQuiQX2DFlOoZ19nhHifN",
      "include_colab_link": true
    },
    "kernelspec": {
      "name": "python3",
      "display_name": "Python 3"
    },
    "language_info": {
      "name": "python"
    }
  },
  "cells": [
    {
      "cell_type": "markdown",
      "metadata": {
        "id": "view-in-github",
        "colab_type": "text"
      },
      "source": [
        "<a href=\"https://colab.research.google.com/github/AhmadAlmustadi/casestudy/blob/main/Neural%20Net%20works%20.ipynb\" target=\"_parent\"><img src=\"https://colab.research.google.com/assets/colab-badge.svg\" alt=\"Open In Colab\"/></a>"
      ]
    },
    {
      "cell_type": "code",
      "execution_count": 1,
      "metadata": {
        "id": "PW8Mip50A5I4"
      },
      "outputs": [],
      "source": [
        "pip install -q tensorflow tensorflow-datasets"
      ]
    },
    {
      "cell_type": "code",
      "source": [
        "import pandas as pd\n",
        "import numpy as np\n",
        "\n",
        "import matplotlib.pyplot as plt\n",
        "import seaborn as sns\n",
        "\n",
        "import tensorflow as tf\n",
        "import tensorflow_datasets as tfds\n",
        "from tensorflow import keras"
      ],
      "metadata": {
        "id": "DzrGr-bIBG7z"
      },
      "execution_count": 49,
      "outputs": []
    },
    {
      "cell_type": "code",
      "source": [
        "builder = tfds.builder(name='rock_paper_scissors')"
      ],
      "metadata": {
        "id": "nXI6PhmTBe9k"
      },
      "execution_count": 5,
      "outputs": []
    },
    {
      "cell_type": "code",
      "source": [
        "info = builder.info\n",
        "info\n",
        "\n",
        "builder = tfds.builder('rock_paper_scissors')\n",
        "info = builder.info\n",
        "\n",
        "info"
      ],
      "metadata": {
        "colab": {
          "base_uri": "https://localhost:8080/"
        },
        "id": "cBhUZ-XSBwrL",
        "outputId": "269d1bf6-c4eb-41ca-cb18-c7281a2fa92f"
      },
      "execution_count": 21,
      "outputs": [
        {
          "output_type": "execute_result",
          "data": {
            "text/plain": [
              "tfds.core.DatasetInfo(\n",
              "    name='rock_paper_scissors',\n",
              "    full_name='rock_paper_scissors/3.0.0',\n",
              "    description=\"\"\"\n",
              "    Images of hands playing rock, paper, scissor game.\n",
              "    \"\"\",\n",
              "    homepage='http://laurencemoroney.com/rock-paper-scissors-dataset',\n",
              "    data_dir='/root/tensorflow_datasets/rock_paper_scissors/3.0.0',\n",
              "    file_format=tfrecord,\n",
              "    download_size=219.53 MiB,\n",
              "    dataset_size=219.23 MiB,\n",
              "    features=FeaturesDict({\n",
              "        'image': Image(shape=(300, 300, 3), dtype=uint8),\n",
              "        'label': ClassLabel(shape=(), dtype=int64, num_classes=3),\n",
              "    }),\n",
              "    supervised_keys=('image', 'label'),\n",
              "    disable_shuffling=False,\n",
              "    splits={\n",
              "        'test': <SplitInfo num_examples=372, num_shards=1>,\n",
              "        'train': <SplitInfo num_examples=2520, num_shards=2>,\n",
              "    },\n",
              "    citation=\"\"\"@ONLINE {rps,\n",
              "    author = \"Laurence Moroney\",\n",
              "    title = \"Rock, Paper, Scissors Dataset\",\n",
              "    month = \"feb\",\n",
              "    year = \"2019\",\n",
              "    url = \"http://laurencemoroney.com/rock-paper-scissors-dataset\"\n",
              "    }\"\"\",\n",
              ")"
            ]
          },
          "metadata": {},
          "execution_count": 21
        }
      ]
    },
    {
      "cell_type": "code",
      "source": [
        "ds_train = tfds.load(name='rock_paper_scissors',split='train')\n",
        "\n",
        "df_test = tfds.load(name='rock_paper_scissors', split='test')\n"
      ],
      "metadata": {
        "id": "eI1XJycuB05B"
      },
      "execution_count": 15,
      "outputs": []
    },
    {
      "cell_type": "code",
      "source": [
        "ds_train = tfds.load(name=\"rock_paper_scissors\", split=\"train\")\n",
        "ds_test = tfds.load(name=\"rock_paper_scissors\", split=\"test\")"
      ],
      "metadata": {
        "id": "jwFaLLuvL0uv"
      },
      "execution_count": 14,
      "outputs": []
    },
    {
      "cell_type": "code",
      "source": [
        "train_images = np.array([example['image'].numpy()[:,:,0] for example in ds_train])\n",
        "train_labels = np.array([example['label'].numpy()for example in ds_train])\n",
        "\n",
        "test_images = np.array([example['image'].numpy()[:,:,0] for example in ds_test])\n",
        "test_labels = np.array([example['label'].numpy()for example in ds_test])"
      ],
      "metadata": {
        "id": "p3WjbzYUL8jQ"
      },
      "execution_count": 35,
      "outputs": []
    },
    {
      "cell_type": "code",
      "source": [
        "train_images.shape"
      ],
      "metadata": {
        "colab": {
          "base_uri": "https://localhost:8080/"
        },
        "id": "7Q21MusqQa29",
        "outputId": "bcec7ae4-1e70-4e64-e845-84f88227ddbe"
      },
      "execution_count": 37,
      "outputs": [
        {
          "output_type": "execute_result",
          "data": {
            "text/plain": [
              "(2520, 300, 300)"
            ]
          },
          "metadata": {},
          "execution_count": 37
        }
      ]
    },
    {
      "cell_type": "code",
      "source": [
        "train_images = train_images.reshape(2520, 300, 300, 1)\n",
        "train_images.shape"
      ],
      "metadata": {
        "colab": {
          "base_uri": "https://localhost:8080/"
        },
        "id": "SfucYWuXQpob",
        "outputId": "eb46ecf0-7a05-4d25-a5bc-012805fad122"
      },
      "execution_count": 39,
      "outputs": [
        {
          "output_type": "execute_result",
          "data": {
            "text/plain": [
              "(2520, 300, 300, 1)"
            ]
          },
          "metadata": {},
          "execution_count": 39
        }
      ]
    },
    {
      "cell_type": "code",
      "source": [
        "test_images.shape"
      ],
      "metadata": {
        "colab": {
          "base_uri": "https://localhost:8080/"
        },
        "id": "e9o6gg1WVcJB",
        "outputId": "4a7658e5-8a7d-4aa9-c4f2-ba588dee9727"
      },
      "execution_count": 40,
      "outputs": [
        {
          "output_type": "execute_result",
          "data": {
            "text/plain": [
              "(372, 300, 300)"
            ]
          },
          "metadata": {},
          "execution_count": 40
        }
      ]
    },
    {
      "cell_type": "code",
      "source": [
        "test_images = test_images.reshape(372, 300, 300, 1)\n",
        "\n",
        "test_images.shape"
      ],
      "metadata": {
        "colab": {
          "base_uri": "https://localhost:8080/"
        },
        "id": "D1tRNDUuVszt",
        "outputId": "cc402802-3d10-4be5-c030-36090f7bb25d"
      },
      "execution_count": 41,
      "outputs": [
        {
          "output_type": "execute_result",
          "data": {
            "text/plain": [
              "(372, 300, 300, 1)"
            ]
          },
          "metadata": {},
          "execution_count": 41
        }
      ]
    },
    {
      "cell_type": "code",
      "source": [
        "train_images = train_images.astype('float32')\n",
        "test_images = test_images.astype('float32')"
      ],
      "metadata": {
        "id": "rpef0ygjV2kj"
      },
      "execution_count": 43,
      "outputs": []
    },
    {
      "cell_type": "code",
      "source": [
        "train_images /= 255\n",
        "test_images /= 255"
      ],
      "metadata": {
        "id": "CePxgpvcXxR4"
      },
      "execution_count": 44,
      "outputs": []
    },
    {
      "cell_type": "code",
      "source": [
        "train_images[train_images>1]"
      ],
      "metadata": {
        "colab": {
          "base_uri": "https://localhost:8080/"
        },
        "id": "sSsD0cKjX_e5",
        "outputId": "04dc5bfc-43f3-4c4c-d398-3e51e8b63e0f"
      },
      "execution_count": 48,
      "outputs": [
        {
          "output_type": "execute_result",
          "data": {
            "text/plain": [
              "array([], dtype=float32)"
            ]
          },
          "metadata": {},
          "execution_count": 48
        }
      ]
    },
    {
      "cell_type": "code",
      "source": [
        "model = tf.keras.Sequential([\n",
        "    keras.layers.Flatten(),\n",
        "    keras.layers.Dense(512, activation='relu'),\n",
        "    keras.layers.Dense(256, activation='relu'),\n",
        "    keras.layers.Dense(3, activation='softmax')\n",
        "])\n",
        "\n",
        "model.compile(optimizer='adam',\n",
        "              loss = keras.losses.SparseCategoricalCrossentropy(),\n",
        "              metrics=['accuracy'])\n",
        "\n",
        "\n",
        "model.fit(train_images, train_labels, epochs=5, batch_size=32)\n",
        "\n"
      ],
      "metadata": {
        "colab": {
          "base_uri": "https://localhost:8080/"
        },
        "id": "gWXAJsTkYBzs",
        "outputId": "562cd2ed-4d75-430b-b656-5fc03bc3b385"
      },
      "execution_count": 54,
      "outputs": [
        {
          "output_type": "stream",
          "name": "stdout",
          "text": [
            "Epoch 1/5\n",
            "79/79 [==============================] - 71s 879ms/step - loss: 22.2310 - accuracy: 0.4083\n",
            "Epoch 2/5\n",
            "79/79 [==============================] - 72s 901ms/step - loss: 3.2490 - accuracy: 0.5980\n",
            "Epoch 3/5\n",
            "79/79 [==============================] - 68s 864ms/step - loss: 0.4401 - accuracy: 0.8361\n",
            "Epoch 4/5\n",
            "79/79 [==============================] - 67s 846ms/step - loss: 0.9234 - accuracy: 0.7163\n",
            "Epoch 5/5\n",
            "79/79 [==============================] - 69s 873ms/step - loss: 0.3502 - accuracy: 0.8663\n"
          ]
        },
        {
          "output_type": "execute_result",
          "data": {
            "text/plain": [
              "<keras.src.callbacks.History at 0x7df359bf5390>"
            ]
          },
          "metadata": {},
          "execution_count": 54
        }
      ]
    },
    {
      "cell_type": "code",
      "source": [
        "model.evaluate(test_images,test_labels)"
      ],
      "metadata": {
        "colab": {
          "base_uri": "https://localhost:8080/"
        },
        "id": "4GH4CifAaVvQ",
        "outputId": "d24021fa-2499-48f4-ae62-cebb50a70e62"
      },
      "execution_count": 55,
      "outputs": [
        {
          "output_type": "stream",
          "name": "stdout",
          "text": [
            "12/12 [==============================] - 2s 149ms/step - loss: 2.1137 - accuracy: 0.4812\n"
          ]
        },
        {
          "output_type": "execute_result",
          "data": {
            "text/plain": [
              "[2.1136767864227295, 0.4811827838420868]"
            ]
          },
          "metadata": {},
          "execution_count": 55
        }
      ]
    },
    {
      "cell_type": "code",
      "source": [],
      "metadata": {
        "id": "Kh5uj1FHklWB"
      },
      "execution_count": null,
      "outputs": []
    }
  ]
}